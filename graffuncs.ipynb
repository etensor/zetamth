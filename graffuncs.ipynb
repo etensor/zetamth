{
  "nbformat": 4,
  "nbformat_minor": 0,
  "metadata": {
    "colab": {
      "name": "graffuncs.ipynb",
      "provenance": []
    },
    "kernelspec": {
      "name": "python3",
      "display_name": "Python 3"
    }
  },
  "cells": [
    {
      "cell_type": "code",
      "metadata": {
        "id": "wiaxFfWAwG00"
      },
      "source": [
        "# DEFINING FUNCTIONS\r\n",
        "\r\n",
        "def plot2D(x_points):\r\n",
        "    # I find where the letter X is in my equation text and replace by placeholders {}\r\n",
        "    number_of_placeholders = equation.value.count('X')\r\n",
        "    decomposed_equation = equation.value.replace('X', '{}')\r\n",
        "    y = []\r\n",
        "    for point in x_points:\r\n",
        "        dicti = {i: point for i in range(number_of_placeholders)}\r\n",
        "        decomposed_eq = decomposed_equation.format(*dicti.values())   \r\n",
        "        # WARNING: couldn't figure out any other way, let me know if you know\r\n",
        "        exec(\"\"\"global res\r\n",
        "res = {}\"\"\".format(decomposed_eq))\r\n",
        "        y.append(res)\r\n",
        "    plt.plot(x_points, y)\r\n",
        "    plt.show()\r\n",
        "\r\n",
        "\r\n",
        "def plot3D(X, Y, Z):\r\n",
        "    options = {\r\n",
        "        \"width\": \"100%\",\r\n",
        "        \"style\": \"surface\",\r\n",
        "        \"showPerspective\": True,\r\n",
        "        \"showGrid\": True,\r\n",
        "        \"showShadow\": True,\r\n",
        "        \"keepAspectRatio\": False,\r\n",
        "        \"height\": \"600px\"\r\n",
        "        }\r\n",
        "     # LOADING DATA\r\n",
        "    data = [ {\"x\": X[y,x], \r\n",
        "              \"y\": Y[y,x], \r\n",
        "              \"z\": Z[y,x]} for y in range(Y.shape[0]) for x in range(Y.shape[1]) ]  \r\n",
        "    visual_code = r\"\"\"\r\n",
        "       <link href=\"https://cdnjs.cloudflare.com/ajax/libs/vis/4.21.0/vis.min.css\" type=\"text/css\" rel=\"stylesheet\" />\r\n",
        "       <script src=\"https://cdnjs.cloudflare.com/ajax/libs/vis/4.21.0/vis.min.js\"></script>\r\n",
        "       <div id=\"pos\" style=\"top:0px;left:0px;position:absolute;\"></div>\r\n",
        "       <div id=\"visualization\"></div>      \r\n",
        "       <script type=\"text/javascript\">\r\n",
        "        var data = new vis.DataSet();\r\n",
        "        data.add(\"\"\" + json.dumps(data) + \"\"\");\r\n",
        "        var options = \"\"\" + json.dumps(options) + \"\"\";\r\n",
        "        var container = document.getElementById(\"visualization\");\r\n",
        "        var graph3d = new vis.Graph3d(container, data, options);\r\n",
        "        // setting the camera position initial\r\n",
        "        graph3d.setCameraPosition({horizontal:0.8197963, vertical:0.945, distance:1.988})\r\n",
        "        graph3d.on(\"cameraPositionChange\", function(evt)\r\n",
        "        {\r\n",
        "            elem = document.getElementById(\"pos\");\r\n",
        "            elem.innerHTML = \"Horizontal: \" + evt.horizontal + \"<br>Vertical: \" + evt.vertical + \"<br>Camera Distance: \" + evt.distance;\r\n",
        "        });\r\n",
        "       </script>\r\n",
        "    \"\"\"\r\n",
        "    html= \"<iframe srcdoc='\"+visual_code+\"' width='50%' height='600px' style='border:10;' scrolling='no'> </iframe>\"\r\n",
        "    display(HTML(html))"
      ],
      "execution_count": 3,
      "outputs": []
    },
    {
      "cell_type": "code",
      "metadata": {
        "id": "VhNYtiiNwSi9"
      },
      "source": [
        ""
      ],
      "execution_count": null,
      "outputs": []
    }
  ]
}